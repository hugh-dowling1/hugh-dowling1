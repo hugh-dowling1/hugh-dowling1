{
 "cells": [
  {
   "cell_type": "markdown",
   "metadata": {},
   "source": [
    "# NATS3200: Machine learning approaches for scientific analysis\n",
    "## Lecturer: Dr Stefan Auer, School of Chemistry, University of Leeds"
   ]
  },
  {
   "cell_type": "markdown",
   "metadata": {},
   "source": [
    "## Standard errors and confidence intervals"
   ]
  },
  {
   "cell_type": "markdown",
   "metadata": {},
   "source": [
    "Lets consider data generated from a very simple linear model with a zero intercept. I will assume a gradient, $\\beta$ of 2 and a variance of $3^2$.These are just arbitrary numbers for the purposes of illustration.\n",
    "$$\n",
    "Y = \\beta X + \\epsilon, \\ \\epsilon \\sim \\mathcal{N}(0, \\sigma^2=3^2), \\ \\beta = 2\n",
    "\\tag{19}\n",
    "$$\n",
    "We can generate data from this model simply in Python, taking a random sample of $X$ values between 0 and 10"
   ]
  },
  {
   "cell_type": "code",
   "execution_count": 1,
   "metadata": {},
   "outputs": [
    {
     "data": {
      "image/png": "[encoded data removed]",
      "text/plain": [
       "<Figure size 640x480 with 1 Axes>"
      ]
     },
     "metadata": {},
     "output_type": "display_data"
    },
    {
     "name": "stdout",
     "output_type": "stream",
     "text": [
      "(100,)\n",
      "(100,)\n"
     ]
    }
   ],
   "source": [
    "import matplotlib.pyplot as plt\n",
    "import numpy as np\n",
    "#x=np.arange(0,10,1/10)\n",
    "x = np.random.uniform(0,10,100)\n",
    "mu, sigma = 0, 3 # mean and standard deviation\n",
    "s = np.random.normal(mu,sigma,100)\n",
    "y=2*x+s\n",
    "plt.scatter(x,y, marker=\"o\")\n",
    "plt.xlabel(\"x\")\n",
    "plt.ylabel(\"y\")\n",
    "plt.show()\n",
    "print(x.shape)\n",
    "print(y.shape)"
   ]
  },
  {
   "cell_type": "markdown",
   "metadata": {},
   "source": [
    "### Doing linear regression in practice: the glm command  "
   ]
  },
  {
   "cell_type": "code",
   "execution_count": 2,
   "metadata": {},
   "outputs": [
    {
     "data": {
      "text/html": [
       "<div>\n",
       "<style scoped>\n",
       "    .dataframe tbody tr th:only-of-type {\n",
       "        vertical-align: middle;\n",
       "    }\n",
       "\n",
       "    .dataframe tbody tr th {\n",
       "        vertical-align: top;\n",
       "    }\n",
       "\n",
       "    .dataframe thead th {\n",
       "        text-align: right;\n",
       "    }\n",
       "</style>\n",
       "<table border=\"1\" class=\"dataframe\">\n",
       "  <thead>\n",
       "    <tr style=\"text-align: right;\">\n",
       "      <th></th>\n",
       "      <th>INPUT</th>\n",
       "      <th>OUTPUT</th>\n",
       "    </tr>\n",
       "  </thead>\n",
       "  <tbody>\n",
       "    <tr>\n",
       "      <th>0</th>\n",
       "      <td>0.748681</td>\n",
       "      <td>8.979341</td>\n",
       "    </tr>\n",
       "    <tr>\n",
       "      <th>1</th>\n",
       "      <td>2.788944</td>\n",
       "      <td>7.299947</td>\n",
       "    </tr>\n",
       "    <tr>\n",
       "      <th>2</th>\n",
       "      <td>9.727458</td>\n",
       "      <td>22.848135</td>\n",
       "    </tr>\n",
       "    <tr>\n",
       "      <th>3</th>\n",
       "      <td>7.187033</td>\n",
       "      <td>15.883959</td>\n",
       "    </tr>\n",
       "    <tr>\n",
       "      <th>4</th>\n",
       "      <td>6.574938</td>\n",
       "      <td>15.313665</td>\n",
       "    </tr>\n",
       "  </tbody>\n",
       "</table>\n",
       "</div>"
      ],
      "text/plain": [
       "      INPUT     OUTPUT\n",
       "0  0.748681   8.979341\n",
       "1  2.788944   7.299947\n",
       "2  9.727458  22.848135\n",
       "3  7.187033  15.883959\n",
       "4  6.574938  15.313665"
      ]
     },
     "execution_count": 2,
     "metadata": {},
     "output_type": "execute_result"
    }
   ],
   "source": [
    "import pandas as pd\n",
    "df=pd.DataFrame({'INPUT': x,'OUTPUT':y})\n",
    "df.head()"
   ]
  },
  {
   "cell_type": "code",
   "execution_count": 3,
   "metadata": {},
   "outputs": [
    {
     "name": "stdout",
     "output_type": "stream",
     "text": [
      "                 Generalized Linear Model Regression Results                  \n",
      "==============================================================================\n",
      "Dep. Variable:                 OUTPUT   No. Observations:                  100\n",
      "Model:                            GLM   Df Residuals:                       98\n",
      "Model Family:                Gaussian   Df Model:                            1\n",
      "Link Function:               identity   Scale:                          8.4044\n",
      "Method:                          IRLS   Log-Likelihood:                -247.32\n",
      "Date:                Fri, 10 Feb 2023   Deviance:                       823.63\n",
      "Time:                        11:18:23   Pearson chi2:                     824.\n",
      "No. Iterations:                     3   Pseudo R-squ. (CS):             0.9843\n",
      "Covariance Type:            nonrobust                                         \n",
      "==============================================================================\n",
      "                 coef    std err          z      P>|z|      [0.025      0.975]\n",
      "------------------------------------------------------------------------------\n",
      "Intercept     -0.1199      0.602     -0.199      0.842      -1.300       1.060\n",
      "INPUT          2.1050      0.103     20.385      0.000       1.903       2.307\n",
      "==============================================================================\n"
     ]
    }
   ],
   "source": [
    "from statsmodels.formula.api import glm\n",
    "formula = 'OUTPUT ~ INPUT'\n",
    "my_multiple_data = glm(formula, df).fit()\n",
    "print(my_multiple_data.summary())"
   ]
  },
  {
   "cell_type": "markdown",
   "metadata": {},
   "source": [
    "The summary provided gives us lots of information. For the moment we are most interested in the values of the coefficients, which match closely to those we found by doing our own optimisation before. Note as well that the summary provides 'standard errors' for each coefficient. These tell us how uncertain we are about each the value of coefficient. You can think of each estimate of a coefficient being a random variable whose value is normally distributed. The standard error is the estimated standard deviation of this distribution. Let's try this out.\n",
    "\n",
    "## Calculation of the standard error of the regression coefficients \n",
    "The above fit gives us the best estimate for the coefficients, but we would like to know how much this estimate would vary if we were to repeat the experiment, i.e. if we were to select data points with the same input values, but which would have different values y because of the random variation of the residuals, $\\epsilon$. This can be simply done by repeating the experiment N times."
   ]
  },
  {
   "cell_type": "code",
   "execution_count": 4,
   "metadata": {},
   "outputs": [
    {
     "name": "stdout",
     "output_type": "stream",
     "text": [
      "Mean and standard deviation for intercept -0.015498354285421116 0.6171069983455054\n",
      "Mean and standard deviation for slope 1.9988605802885522 0.1054381590666343\n"
     ]
    }
   ],
   "source": [
    "import statistics\n",
    "#Define lists to store the coefficients obtained from the fit for each experiment\n",
    "m0 = []\n",
    "m1 = []\n",
    "\n",
    "N=1000 # Number of repeat experiments\n",
    "n=100  \n",
    "\n",
    "for i in range(1,N):\n",
    "\n",
    "    s = np.random.normal(mu,sigma,n)\n",
    "    y=2*x+s\n",
    "    df=pd.DataFrame({'INPUT': x,'OUTPUT':y})\n",
    "    formula = 'OUTPUT ~ INPUT'\n",
    "    model = glm(formula, df).fit()\n",
    "    m0.append(model.params[0])\n",
    "    m1.append(model.params[1])\n",
    "\n",
    "# Calculate the mean of each coefficient and its standard deviation\n",
    "mean_m0=statistics.mean(m0)\n",
    "mean_m1=statistics.mean(m1)\n",
    "stdev_m0=statistics.stdev(m0)\n",
    "stdev_m1=statistics.stdev(m1)\n",
    "\n",
    "print(\"Mean and standard deviation for intercept\", mean_m0,stdev_m0)\n",
    "print(\"Mean and standard deviation for slope\", mean_m1,stdev_m1)"
   ]
  },
  {
   "cell_type": "markdown",
   "metadata": {},
   "source": [
    "The estimate for the standard error agree with the one obtained from the glm summary above. According to the Central limit theorem, the estimates for the coefficients are normally distributed, and we can fit our obtained values to a normal distribution to obtain the corresponding values for the mean and standard deviation. "
   ]
  },
  {
   "cell_type": "markdown",
   "metadata": {},
   "source": [
    "## Distribution function for the coefficients and estimate mean and standard deviation\n",
    "\n",
    "Lets start with the intercept. First I fit our obtained values for the intercept to a normal distribution to obtain the mean and standard deviation. "
   ]
  },
  {
   "cell_type": "code",
   "execution_count": 8,
   "metadata": {},
   "outputs": [
    {
     "name": "stdout",
     "output_type": "stream",
     "text": [
      "Optimization terminated successfully.\n",
      "         Current function value: 935.224681\n",
      "         Iterations: 65\n",
      "         Function evaluations: 124\n",
      "MLE mean =  -0.015460103006723177\n",
      "MLE standard deviation =  0.6164994170404288\n"
     ]
    },
    {
     "name": "stderr",
     "output_type": "stream",
     "text": [
      "/var/folders/8p/c42g9rw13sd3qd1h03v6g26c0000gn/T/ipykernel_40977/312502249.py:4: RuntimeWarning: divide by zero encountered in log\n",
      "  return (-N*np.log(np.sqrt(2*np.pi)*var) -np.sum((Y-mean)**2/(2*var**2)))\n",
      "/var/folders/8p/c42g9rw13sd3qd1h03v6g26c0000gn/T/ipykernel_40977/312502249.py:4: RuntimeWarning: divide by zero encountered in true_divide\n",
      "  return (-N*np.log(np.sqrt(2*np.pi)*var) -np.sum((Y-mean)**2/(2*var**2)))\n",
      "/var/folders/8p/c42g9rw13sd3qd1h03v6g26c0000gn/T/ipykernel_40977/312502249.py:4: RuntimeWarning: invalid value encountered in double_scalars\n",
      "  return (-N*np.log(np.sqrt(2*np.pi)*var) -np.sum((Y-mean)**2/(2*var**2)))\n"
     ]
    }
   ],
   "source": [
    "from scipy import optimize\n",
    "def lognorm(param,Y):\n",
    "    mean,var = param\n",
    "    return (-N*np.log(np.sqrt(2*np.pi)*var) -np.sum((Y-mean)**2/(2*var**2)))\n",
    "\n",
    "def neg_LL(param):\n",
    "    return -lognorm(param,m0)\n",
    "\n",
    "start_guess = [0,0]\n",
    "mle_result = optimize.fmin(neg_LL,start_guess);\n",
    "print(\"MLE mean = \", mle_result[0]);\n",
    "print(\"MLE standard deviation = \", mle_result[1]);"
   ]
  },
  {
   "cell_type": "markdown",
   "metadata": {},
   "source": [
    "As can be seen, the estimates for the mean and standard deviation agree well. Next I depict the histogram of the values obtained for the intercept, and plot the normal distribution using the mean and standard deviation obtained from the fit above. "
   ]
  },
  {
   "cell_type": "code",
   "execution_count": 9,
   "metadata": {},
   "outputs": [
    {
     "data": {
      "image/png": "[encoded data removed]",
      "text/plain": [
       "<Figure size 640x480 with 1 Axes>"
      ]
     },
     "metadata": {},
     "output_type": "display_data"
    }
   ],
   "source": [
    "import scipy \n",
    "mu = mle_result[0]\n",
    "sigma = mle_result[1]\n",
    "x = np.linspace(mu - 3*sigma, mu + 3*sigma, 100)\n",
    "plt.plot(x, scipy.stats.norm.pdf(x,mu,sigma))\n",
    "plt.hist(m0,bins=20,density=True)\n",
    "plt.show()"
   ]
  },
  {
   "cell_type": "markdown",
   "metadata": {},
   "source": [
    "The good agreement can be seen. I repeat this for the slope "
   ]
  },
  {
   "cell_type": "code",
   "execution_count": 10,
   "metadata": {},
   "outputs": [
    {
     "name": "stdout",
     "output_type": "stream",
     "text": [
      "Optimization terminated successfully.\n",
      "         Current function value: -831.693078\n",
      "         Iterations: 78\n",
      "         Function evaluations: 148\n",
      "MLE mean =  1.998896540574973\n",
      "MLE standard deviation =  0.10533141642204555\n"
     ]
    },
    {
     "name": "stderr",
     "output_type": "stream",
     "text": [
      "/var/folders/8p/c42g9rw13sd3qd1h03v6g26c0000gn/T/ipykernel_40977/312502249.py:4: RuntimeWarning: divide by zero encountered in log\n",
      "  return (-N*np.log(np.sqrt(2*np.pi)*var) -np.sum((Y-mean)**2/(2*var**2)))\n",
      "/var/folders/8p/c42g9rw13sd3qd1h03v6g26c0000gn/T/ipykernel_40977/312502249.py:4: RuntimeWarning: divide by zero encountered in true_divide\n",
      "  return (-N*np.log(np.sqrt(2*np.pi)*var) -np.sum((Y-mean)**2/(2*var**2)))\n",
      "/var/folders/8p/c42g9rw13sd3qd1h03v6g26c0000gn/T/ipykernel_40977/312502249.py:4: RuntimeWarning: invalid value encountered in double_scalars\n",
      "  return (-N*np.log(np.sqrt(2*np.pi)*var) -np.sum((Y-mean)**2/(2*var**2)))\n",
      "/var/folders/8p/c42g9rw13sd3qd1h03v6g26c0000gn/T/ipykernel_40977/312502249.py:4: RuntimeWarning: invalid value encountered in log\n",
      "  return (-N*np.log(np.sqrt(2*np.pi)*var) -np.sum((Y-mean)**2/(2*var**2)))\n"
     ]
    }
   ],
   "source": [
    "def neg_LLm(param):\n",
    "    return -lognorm(param,m1)\n",
    "\n",
    "start_guess = [0,0]\n",
    "mle_result = optimize.fmin(neg_LLm,start_guess)\n",
    "print(\"MLE mean = \", mle_result[0])\n",
    "print(\"MLE standard deviation = \", mle_result[1])"
   ]
  },
  {
   "cell_type": "code",
   "execution_count": 11,
   "metadata": {},
   "outputs": [
    {
     "data": {
      "image/png": "[encoded data removed]",
      "text/plain": [
       "<Figure size 640x480 with 1 Axes>"
      ]
     },
     "metadata": {},
     "output_type": "display_data"
    }
   ],
   "source": [
    "mu = mle_result[0]\n",
    "sigma = mle_result[1]\n",
    "x = np.linspace(mu - 3*sigma, mu + 3*sigma, 100)\n",
    "plt.plot(x, scipy.stats.norm.pdf(x,mu,sigma))\n",
    "plt.hist(m1,bins=20,density=True)\n",
    "plt.show()"
   ]
  },
  {
   "cell_type": "markdown",
   "metadata": {},
   "source": [
    "## Conficence intervals "
   ]
  },
  {
   "cell_type": "markdown",
   "metadata": {},
   "source": [
    "We can therefore construct 95\\% (or any percentile) confidence intervals for the true coefficient value using this.  You use the data provided to estimate the population mean (simply the mean of your data), and the standard error (the sample variance divided by the number of observation in the data, $n$). From this you construct an interval. For example, for a 95\\% C.I. that interval is: sample mean $\\pm$ standard error $\\times t_{2.5\\%, n-1}$, where $t_{2.5\\%, n-1}$ indicate the critical value for a t-distribution with $n-1$ degrees of freedom where $P(x > t_{2.5\\%, n-1}) = 0.025$. Recall that we use a t-distribution when sample sizes are small (generally $n < 50$), to account for the extra uncertainty this introduces - as $n$ grows beyond 50 it rapidly, $t_{2.5\\%, n-1}$ rapidly tends towards a stable value of around 1.96. We used a t-distribution with $n-1$ degrees of freedom because when we estimate the *variance* of the population from the data we have only $n-1$ independent data points; because the mean was also estimated from the data, then if we are given the mean and $n-1$ of the observations we can always reconstruct the $n$th value.\n",
    "\n",
    "In the case of the linear regression coefficients, we can follow a very similar process to construct confidence intervals for the estimates of the coefficient values. The key difference is to recognise that we have further reduced the number of effectively independent data points, the degrees of freedom, in estimating the standard error. This is because we have estimated both the intercept value, $\\beta_0$, and the gradient, $\\beta_1$, before we use these to generate the estimate of the variance. Therefore the number of degrees of freedom is reduced to $n-2$. If you were to give me $n-2$ of the observations, along with the estimated values of $\\beta_0$ and $\\beta_1$, I could always tell you what the missing two observations were. Therefore the 95\\% C.I. for any regression coefficient in this one-dimensional model is:\n",
    "\n",
    "**estimate $\\pm$ standard error $\\times t_{2.5\\%, n-2}$**\n",
    "\n",
    "These confidence intervals work exactly the same as those you will have learnt in NATS2380: we intepret them as meaning that there is a $\\alpha$\\% probability that the real coefficient value lies within the $\\alpha$\\% confidence interval. In most practical appications we will almost always use $\\alpha=95$ (as above), though you can easily adapt for any desired interval by finding the appropriate critical t-value."
   ]
  },
  {
   "cell_type": "code",
   "execution_count": 12,
   "metadata": {},
   "outputs": [
    {
     "name": "stdout",
     "output_type": "stream",
     "text": [
      "1.959963984540054 1.792450757947173 2.205342323202773\n"
     ]
    }
   ],
   "source": [
    "alpha=0.05\n",
    "t_critical=scipy.stats.norm.ppf(1 - alpha / 2) \n",
    "\n",
    "print(t_critical,mle_result[0]-t_critical*mle_result[1],mle_result[0]+t_critical*mle_result[1])"
   ]
  },
  {
   "cell_type": "markdown",
   "metadata": {},
   "source": [
    "### Integration over distribution function "
   ]
  },
  {
   "cell_type": "code",
   "execution_count": 13,
   "metadata": {},
   "outputs": [
    {
     "data": {
      "text/plain": [
       "0.9500008661111714"
      ]
     },
     "execution_count": 13,
     "metadata": {},
     "output_type": "execute_result"
    }
   ],
   "source": [
    "import scipy.integrate as integrate\n",
    "# Define mu and sigma\n",
    "mu = mle_result[0]\n",
    "sigma = mle_result[1]\n",
    "\n",
    "# Define bounds of integral\n",
    "a = mle_result[0]-t_critical*mle_result[1]\n",
    "b = mle_result[0]+t_critical*mle_result[1]\n",
    "\n",
    "# Generate function values\n",
    "x_range = np.linspace(a,b,100)\n",
    "fx = scipy.stats.norm.pdf(x_range,mu,sigma)\n",
    "\n",
    "integrate.simps(fx,x_range)"
   ]
  },
  {
   "cell_type": "markdown",
   "metadata": {},
   "source": [
    "#### The integration confirms that the limits calculated for the 95 percent confidence interval correspond to the 95 percent probability. "
   ]
  },
  {
   "cell_type": "code",
   "execution_count": null,
   "metadata": {},
   "outputs": [],
   "source": []
  }
 ],
 "metadata": {
  "kernelspec": {
   "display_name": "Python 3",
   "language": "python",
   "name": "python3"
  },
  "language_info": {
   "codemirror_mode": {
    "name": "ipython",
    "version": 3
   },
   "file_extension": ".py",
   "mimetype": "text/x-python",
   "name": "python",
   "nbconvert_exporter": "python",
   "pygments_lexer": "ipython3",
   "version": "3.8.5"
  }
 },
 "nbformat": 4,
 "nbformat_minor": 4
}
