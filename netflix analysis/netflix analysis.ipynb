{
 "cells": [
  {
   "cell_type": "code",
   "execution_count": 115,
   "metadata": {},
   "outputs": [
    {
     "data": {
      "text/html": [
       "<div>\n",
       "<style scoped>\n",
       "    .dataframe tbody tr th:only-of-type {\n",
       "        vertical-align: middle;\n",
       "    }\n",
       "\n",
       "    .dataframe tbody tr th {\n",
       "        vertical-align: top;\n",
       "    }\n",
       "\n",
       "    .dataframe thead th {\n",
       "        text-align: right;\n",
       "    }\n",
       "</style>\n",
       "<table border=\"1\" class=\"dataframe\">\n",
       "  <thead>\n",
       "    <tr style=\"text-align: right;\">\n",
       "      <th></th>\n",
       "      <th>Profile Name</th>\n",
       "      <th>Start Time</th>\n",
       "      <th>Duration</th>\n",
       "      <th>Title</th>\n",
       "      <th>Device Type</th>\n",
       "    </tr>\n",
       "  </thead>\n",
       "  <tbody>\n",
       "    <tr>\n",
       "      <th>0</th>\n",
       "      <td>Deb</td>\n",
       "      <td>2023-11-22 20:01:17+00:00</td>\n",
       "      <td>0 days 01:50:40</td>\n",
       "      <td>Cold Pursuit</td>\n",
       "      <td>Sky UK llamapaneluk Smart TV</td>\n",
       "    </tr>\n",
       "    <tr>\n",
       "      <th>1</th>\n",
       "      <td>Deb</td>\n",
       "      <td>2023-11-22 20:00:45+00:00</td>\n",
       "      <td>0 days 00:00:09</td>\n",
       "      <td>The 355_hook_05_16x9</td>\n",
       "      <td>Sky UK llamapaneluk Smart TV</td>\n",
       "    </tr>\n",
       "    <tr>\n",
       "      <th>2</th>\n",
       "      <td>Deb</td>\n",
       "      <td>2023-11-22 20:00:30+00:00</td>\n",
       "      <td>0 days 00:00:09</td>\n",
       "      <td>Hatton Garden: The Inside Story_hook_01_16x9</td>\n",
       "      <td>Sky UK llamapaneluk Smart TV</td>\n",
       "    </tr>\n",
       "    <tr>\n",
       "      <th>3</th>\n",
       "      <td>Deb</td>\n",
       "      <td>2023-11-22 20:00:18+00:00</td>\n",
       "      <td>0 days 00:00:09</td>\n",
       "      <td>Endless_hook_04_16x9</td>\n",
       "      <td>Sky UK llamapaneluk Smart TV</td>\n",
       "    </tr>\n",
       "    <tr>\n",
       "      <th>4</th>\n",
       "      <td>Deb</td>\n",
       "      <td>2023-11-22 20:00:11+00:00</td>\n",
       "      <td>0 days 00:00:04</td>\n",
       "      <td>Trailer: The Killer</td>\n",
       "      <td>Sky UK llamapaneluk Smart TV</td>\n",
       "    </tr>\n",
       "  </tbody>\n",
       "</table>\n",
       "</div>"
      ],
      "text/plain": [
       "  Profile Name                Start Time        Duration  \\\n",
       "0          Deb 2023-11-22 20:01:17+00:00 0 days 01:50:40   \n",
       "1          Deb 2023-11-22 20:00:45+00:00 0 days 00:00:09   \n",
       "2          Deb 2023-11-22 20:00:30+00:00 0 days 00:00:09   \n",
       "3          Deb 2023-11-22 20:00:18+00:00 0 days 00:00:09   \n",
       "4          Deb 2023-11-22 20:00:11+00:00 0 days 00:00:04   \n",
       "\n",
       "                                          Title                   Device Type  \n",
       "0                                  Cold Pursuit  Sky UK llamapaneluk Smart TV  \n",
       "1                          The 355_hook_05_16x9  Sky UK llamapaneluk Smart TV  \n",
       "2  Hatton Garden: The Inside Story_hook_01_16x9  Sky UK llamapaneluk Smart TV  \n",
       "3                          Endless_hook_04_16x9  Sky UK llamapaneluk Smart TV  \n",
       "4                           Trailer: The Killer  Sky UK llamapaneluk Smart TV  "
      ]
     },
     "execution_count": 115,
     "metadata": {},
     "output_type": "execute_result"
    }
   ],
   "source": [
    "import pandas as pd\n",
    "import matplotlib\n",
    "from datetime import datetime, timedelta\n",
    "\n",
    "df = pd.read_csv(r'C:\\Users\\hughd\\Desktop\\pythonProject1\\ViewingActivity.csv')\n",
    "df = df.drop(['Attributes', 'Supplemental Video Type', 'Bookmark', 'Latest Bookmark', 'Country'], axis=1)\n",
    "df['Start Time'] = pd.to_datetime(df['Start Time']).dt.tz_localize('UTC')\n",
    "df['Duration'] = pd.to_timedelta(df['Duration'])\n",
    "df.head()\n",
    "\n"
   ]
  },
  {
   "cell_type": "code",
   "execution_count": 120,
   "metadata": {},
   "outputs": [],
   "source": [
    "show_filter = df.loc[df['Title'].str.contains('Bridgerton', regex=False)]"
   ]
  },
  {
   "cell_type": "code",
   "execution_count": 157,
   "metadata": {},
   "outputs": [],
   "source": [
    "user_filter = df.loc[df['Profile Name'].str.contains('Hugh', regex=False)]"
   ]
  },
  {
   "cell_type": "code",
   "execution_count": 161,
   "metadata": {},
   "outputs": [
    {
     "name": "stderr",
     "output_type": "stream",
     "text": [
      "<ipython-input-161-168cd7438e98>:1: SettingWithCopyWarning: \n",
      "A value is trying to be set on a copy of a slice from a DataFrame.\n",
      "Try using .loc[row_indexer,col_indexer] = value instead\n",
      "\n",
      "See the caveats in the documentation: https://pandas.pydata.org/pandas-docs/stable/user_guide/indexing.html#returning-a-view-versus-a-copy\n",
      "  user_filter['weekday'] = user_filter['Start Time'].dt.weekday\n",
      "<ipython-input-161-168cd7438e98>:2: SettingWithCopyWarning: \n",
      "A value is trying to be set on a copy of a slice from a DataFrame.\n",
      "Try using .loc[row_indexer,col_indexer] = value instead\n",
      "\n",
      "See the caveats in the documentation: https://pandas.pydata.org/pandas-docs/stable/user_guide/indexing.html#returning-a-view-versus-a-copy\n",
      "  user_filter['hour'] = user_filter['Start Time'].dt.hour\n"
     ]
    },
    {
     "data": {
      "text/html": [
       "<div>\n",
       "<style scoped>\n",
       "    .dataframe tbody tr th:only-of-type {\n",
       "        vertical-align: middle;\n",
       "    }\n",
       "\n",
       "    .dataframe tbody tr th {\n",
       "        vertical-align: top;\n",
       "    }\n",
       "\n",
       "    .dataframe thead th {\n",
       "        text-align: right;\n",
       "    }\n",
       "</style>\n",
       "<table border=\"1\" class=\"dataframe\">\n",
       "  <thead>\n",
       "    <tr style=\"text-align: right;\">\n",
       "      <th></th>\n",
       "      <th>Profile Name</th>\n",
       "      <th>Start Time</th>\n",
       "      <th>Duration</th>\n",
       "      <th>Title</th>\n",
       "      <th>Device Type</th>\n",
       "      <th>weekday</th>\n",
       "      <th>hour</th>\n",
       "    </tr>\n",
       "  </thead>\n",
       "  <tbody>\n",
       "    <tr>\n",
       "      <th>5092</th>\n",
       "      <td>Hugh</td>\n",
       "      <td>2023-11-18 22:25:48+00:00</td>\n",
       "      <td>0 days 00:26:34</td>\n",
       "      <td>Jackass Forever</td>\n",
       "      <td>Sky UK llamapaneluk Smart TV</td>\n",
       "      <td>5</td>\n",
       "      <td>22</td>\n",
       "    </tr>\n",
       "    <tr>\n",
       "      <th>5093</th>\n",
       "      <td>Hugh</td>\n",
       "      <td>2023-11-18 22:25:27+00:00</td>\n",
       "      <td>0 days 00:00:17</td>\n",
       "      <td>Jackass Forever_hook_04_16x9</td>\n",
       "      <td>Sky UK llamapaneluk Smart TV</td>\n",
       "      <td>5</td>\n",
       "      <td>22</td>\n",
       "    </tr>\n",
       "    <tr>\n",
       "      <th>5094</th>\n",
       "      <td>Hugh</td>\n",
       "      <td>2023-11-13 02:24:20+00:00</td>\n",
       "      <td>0 days 00:02:00</td>\n",
       "      <td>Rick and Morty: Season 1: Rick Potion #9 (Epis...</td>\n",
       "      <td>Apple iPhone 13 Pro Max</td>\n",
       "      <td>0</td>\n",
       "      <td>2</td>\n",
       "    </tr>\n",
       "    <tr>\n",
       "      <th>5095</th>\n",
       "      <td>Hugh</td>\n",
       "      <td>2023-11-13 02:03:46+00:00</td>\n",
       "      <td>0 days 00:20:33</td>\n",
       "      <td>Rick and Morty: Season 1: Meeseeks and Destroy...</td>\n",
       "      <td>Apple iPhone 13 Pro Max</td>\n",
       "      <td>0</td>\n",
       "      <td>2</td>\n",
       "    </tr>\n",
       "    <tr>\n",
       "      <th>5096</th>\n",
       "      <td>Hugh</td>\n",
       "      <td>2023-11-13 01:43:17+00:00</td>\n",
       "      <td>0 days 00:20:29</td>\n",
       "      <td>Rick and Morty: Season 1: M. Night Shaym-Alien...</td>\n",
       "      <td>Apple iPhone 13 Pro Max</td>\n",
       "      <td>0</td>\n",
       "      <td>1</td>\n",
       "    </tr>\n",
       "  </tbody>\n",
       "</table>\n",
       "</div>"
      ],
      "text/plain": [
       "     Profile Name                Start Time        Duration  \\\n",
       "5092         Hugh 2023-11-18 22:25:48+00:00 0 days 00:26:34   \n",
       "5093         Hugh 2023-11-18 22:25:27+00:00 0 days 00:00:17   \n",
       "5094         Hugh 2023-11-13 02:24:20+00:00 0 days 00:02:00   \n",
       "5095         Hugh 2023-11-13 02:03:46+00:00 0 days 00:20:33   \n",
       "5096         Hugh 2023-11-13 01:43:17+00:00 0 days 00:20:29   \n",
       "\n",
       "                                                  Title  \\\n",
       "5092                                    Jackass Forever   \n",
       "5093                       Jackass Forever_hook_04_16x9   \n",
       "5094  Rick and Morty: Season 1: Rick Potion #9 (Epis...   \n",
       "5095  Rick and Morty: Season 1: Meeseeks and Destroy...   \n",
       "5096  Rick and Morty: Season 1: M. Night Shaym-Alien...   \n",
       "\n",
       "                       Device Type  weekday  hour  \n",
       "5092  Sky UK llamapaneluk Smart TV        5    22  \n",
       "5093  Sky UK llamapaneluk Smart TV        5    22  \n",
       "5094       Apple iPhone 13 Pro Max        0     2  \n",
       "5095       Apple iPhone 13 Pro Max        0     2  \n",
       "5096       Apple iPhone 13 Pro Max        0     1  "
      ]
     },
     "execution_count": 161,
     "metadata": {},
     "output_type": "execute_result"
    }
   ],
   "source": [
    "user_filter['weekday'] = user_filter['Start Time'].dt.weekday\n",
    "user_filter['hour'] = user_filter['Start Time'].dt.hour\n",
    "user_filter.head()"
   ]
  },
  {
   "cell_type": "code",
   "execution_count": 159,
   "metadata": {},
   "outputs": [
    {
     "name": "stderr",
     "output_type": "stream",
     "text": [
      "<ipython-input-159-3912b8e2e44a>:1: SettingWithCopyWarning: \n",
      "A value is trying to be set on a copy of a slice from a DataFrame.\n",
      "Try using .loc[row_indexer,col_indexer] = value instead\n",
      "\n",
      "See the caveats in the documentation: https://pandas.pydata.org/pandas-docs/stable/user_guide/indexing.html#returning-a-view-versus-a-copy\n",
      "  show_filter['weekday'] = show_filter['Start Time'].dt.weekday\n",
      "<ipython-input-159-3912b8e2e44a>:2: SettingWithCopyWarning: \n",
      "A value is trying to be set on a copy of a slice from a DataFrame.\n",
      "Try using .loc[row_indexer,col_indexer] = value instead\n",
      "\n",
      "See the caveats in the documentation: https://pandas.pydata.org/pandas-docs/stable/user_guide/indexing.html#returning-a-view-versus-a-copy\n",
      "  show_filter['hour'] = show_filter['Start Time'].dt.hour\n"
     ]
    },
    {
     "data": {
      "text/html": [
       "<div>\n",
       "<style scoped>\n",
       "    .dataframe tbody tr th:only-of-type {\n",
       "        vertical-align: middle;\n",
       "    }\n",
       "\n",
       "    .dataframe tbody tr th {\n",
       "        vertical-align: top;\n",
       "    }\n",
       "\n",
       "    .dataframe thead th {\n",
       "        text-align: right;\n",
       "    }\n",
       "</style>\n",
       "<table border=\"1\" class=\"dataframe\">\n",
       "  <thead>\n",
       "    <tr style=\"text-align: right;\">\n",
       "      <th></th>\n",
       "      <th>Profile Name</th>\n",
       "      <th>Start Time</th>\n",
       "      <th>Duration</th>\n",
       "      <th>Title</th>\n",
       "      <th>Device Type</th>\n",
       "      <th>weekday</th>\n",
       "      <th>hour</th>\n",
       "    </tr>\n",
       "  </thead>\n",
       "  <tbody>\n",
       "    <tr>\n",
       "      <th>375</th>\n",
       "      <td>Deb</td>\n",
       "      <td>2023-09-29 09:58:30+00:00</td>\n",
       "      <td>0 days 00:46:08</td>\n",
       "      <td>Bridgerton: Season 2: The Viscount Who Loved M...</td>\n",
       "      <td>Apple iPhone 13 Pro Max</td>\n",
       "      <td>4</td>\n",
       "      <td>9</td>\n",
       "    </tr>\n",
       "    <tr>\n",
       "      <th>376</th>\n",
       "      <td>Deb</td>\n",
       "      <td>2023-09-29 09:58:26+00:00</td>\n",
       "      <td>0 days 00:00:01</td>\n",
       "      <td>Bridgerton: Season 2: The Choice (Episode 6)</td>\n",
       "      <td>Apple iPhone 13 Pro Max</td>\n",
       "      <td>4</td>\n",
       "      <td>9</td>\n",
       "    </tr>\n",
       "    <tr>\n",
       "      <th>377</th>\n",
       "      <td>Deb</td>\n",
       "      <td>2023-09-29 09:24:17+00:00</td>\n",
       "      <td>0 days 00:15:58</td>\n",
       "      <td>Bridgerton: Season 2: The Viscount Who Loved M...</td>\n",
       "      <td>Apple iPhone 13 Pro Max</td>\n",
       "      <td>4</td>\n",
       "      <td>9</td>\n",
       "    </tr>\n",
       "    <tr>\n",
       "      <th>378</th>\n",
       "      <td>Deb</td>\n",
       "      <td>2023-09-29 09:24:15+00:00</td>\n",
       "      <td>0 days 00:00:01</td>\n",
       "      <td>Bridgerton: Season 2: Harmony (Episode 7)</td>\n",
       "      <td>Apple iPhone 13 Pro Max</td>\n",
       "      <td>4</td>\n",
       "      <td>9</td>\n",
       "    </tr>\n",
       "    <tr>\n",
       "      <th>379</th>\n",
       "      <td>Deb</td>\n",
       "      <td>2023-09-29 09:24:04+00:00</td>\n",
       "      <td>0 days 00:00:10</td>\n",
       "      <td>Bridgerton: Season 2: The Choice (Episode 6)</td>\n",
       "      <td>Apple iPhone 13 Pro Max</td>\n",
       "      <td>4</td>\n",
       "      <td>9</td>\n",
       "    </tr>\n",
       "  </tbody>\n",
       "</table>\n",
       "</div>"
      ],
      "text/plain": [
       "    Profile Name                Start Time        Duration  \\\n",
       "375          Deb 2023-09-29 09:58:30+00:00 0 days 00:46:08   \n",
       "376          Deb 2023-09-29 09:58:26+00:00 0 days 00:00:01   \n",
       "377          Deb 2023-09-29 09:24:17+00:00 0 days 00:15:58   \n",
       "378          Deb 2023-09-29 09:24:15+00:00 0 days 00:00:01   \n",
       "379          Deb 2023-09-29 09:24:04+00:00 0 days 00:00:10   \n",
       "\n",
       "                                                 Title  \\\n",
       "375  Bridgerton: Season 2: The Viscount Who Loved M...   \n",
       "376       Bridgerton: Season 2: The Choice (Episode 6)   \n",
       "377  Bridgerton: Season 2: The Viscount Who Loved M...   \n",
       "378          Bridgerton: Season 2: Harmony (Episode 7)   \n",
       "379       Bridgerton: Season 2: The Choice (Episode 6)   \n",
       "\n",
       "                 Device Type  weekday  hour  \n",
       "375  Apple iPhone 13 Pro Max        4     9  \n",
       "376  Apple iPhone 13 Pro Max        4     9  \n",
       "377  Apple iPhone 13 Pro Max        4     9  \n",
       "378  Apple iPhone 13 Pro Max        4     9  \n",
       "379  Apple iPhone 13 Pro Max        4     9  "
      ]
     },
     "execution_count": 159,
     "metadata": {},
     "output_type": "execute_result"
    }
   ],
   "source": [
    "show_filter['weekday'] = show_filter['Start Time'].dt.weekday\n",
    "show_filter['hour'] = show_filter['Start Time'].dt.hour\n",
    "show_filter.head()"
   ]
  },
  {
   "cell_type": "code",
   "execution_count": 162,
   "metadata": {},
   "outputs": [
    {
     "name": "stderr",
     "output_type": "stream",
     "text": [
      "<ipython-input-162-022a002109e0>:1: SettingWithCopyWarning: \n",
      "A value is trying to be set on a copy of a slice from a DataFrame.\n",
      "Try using .loc[row_indexer,col_indexer] = value instead\n",
      "\n",
      "See the caveats in the documentation: https://pandas.pydata.org/pandas-docs/stable/user_guide/indexing.html#returning-a-view-versus-a-copy\n",
      "  user_filter['weekday'] = pd.Categorical(user_filter['weekday'], categories=\n"
     ]
    },
    {
     "data": {
      "text/plain": [
       "<AxesSubplot:title={'center':'user Watched by Day'}>"
      ]
     },
     "execution_count": 162,
     "metadata": {},
     "output_type": "execute_result"
    },
    {
     "data": {
      "image/png": "[encoded data removed]",
      "text/plain": [
       "<Figure size 1440x720 with 1 Axes>"
      ]
     },
     "metadata": {
      "needs_background": "light"
     },
     "output_type": "display_data"
    }
   ],
   "source": [
    "user_filter['weekday'] = pd.Categorical(user_filter['weekday'], categories=\n",
    "    [0,1,2,3,4,5,6],\n",
    "    ordered=True)\n",
    "\n",
    "user_by_day = user_filter['weekday'].value_counts()\n",
    "\n",
    "\n",
    "user_by_day = user_by_day.sort_index()\n",
    "\n",
    "\n",
    "matplotlib.rcParams.update({'font.size': 22})\n",
    "\n",
    "\n",
    "user_by_day.plot(kind='bar', figsize=(20,10), title='user Watched by Day')\n"
   ]
  },
  {
   "cell_type": "code",
   "execution_count": 163,
   "metadata": {},
   "outputs": [
    {
     "name": "stderr",
     "output_type": "stream",
     "text": [
      "<ipython-input-163-9c5344d902f9>:1: SettingWithCopyWarning: \n",
      "A value is trying to be set on a copy of a slice from a DataFrame.\n",
      "Try using .loc[row_indexer,col_indexer] = value instead\n",
      "\n",
      "See the caveats in the documentation: https://pandas.pydata.org/pandas-docs/stable/user_guide/indexing.html#returning-a-view-versus-a-copy\n",
      "  user_filter['hour'] = pd.Categorical(user_filter['hour'], categories=\n"
     ]
    },
    {
     "data": {
      "text/plain": [
       "<AxesSubplot:title={'center':'user Watched by hour'}>"
      ]
     },
     "execution_count": 163,
     "metadata": {},
     "output_type": "execute_result"
    },
    {
     "data": {
      "image/png": "[encoded data removed]",
      "text/plain": [
       "<Figure size 1440x720 with 1 Axes>"
      ]
     },
     "metadata": {
      "needs_background": "light"
     },
     "output_type": "display_data"
    }
   ],
   "source": [
    "user_filter['hour'] = pd.Categorical(user_filter['hour'], categories=\n",
    "    [0,1,2,3,4,5,6,7,8,9,10,11,12,13,14,15,16,17,18,19,20,21,22,23],\n",
    "    ordered=True)\n",
    "    \n",
    "\n",
    "user_by_hour = user_filter['hour'].value_counts()\n",
    "\n",
    "\n",
    "user_by_hour = user_by_hour.sort_index()\n",
    "\n",
    "\n",
    "matplotlib.rcParams.update({'font.size': 22})\n",
    "\n",
    "\n",
    "user_by_hour.plot(kind='bar', figsize=(20,10), title='user Watched by hour')"
   ]
  },
  {
   "cell_type": "code",
   "execution_count": 123,
   "metadata": {},
   "outputs": [
    {
     "name": "stderr",
     "output_type": "stream",
     "text": [
      "<ipython-input-123-5420d0efe378>:1: SettingWithCopyWarning: \n",
      "A value is trying to be set on a copy of a slice from a DataFrame.\n",
      "Try using .loc[row_indexer,col_indexer] = value instead\n",
      "\n",
      "See the caveats in the documentation: https://pandas.pydata.org/pandas-docs/stable/user_guide/indexing.html#returning-a-view-versus-a-copy\n",
      "  show_filter['weekday'] = pd.Categorical(show_filter['weekday'], categories=\n"
     ]
    },
    {
     "data": {
      "text/plain": [
       "<AxesSubplot:title={'center':'show Watched by Day'}>"
      ]
     },
     "execution_count": 123,
     "metadata": {},
     "output_type": "execute_result"
    },
    {
     "data": {
      "image/png": "[encoded data removed]",
      "text/plain": [
       "<Figure size 1440x720 with 1 Axes>"
      ]
     },
     "metadata": {
      "needs_background": "light"
     },
     "output_type": "display_data"
    }
   ],
   "source": [
    "show_filter['weekday'] = pd.Categorical(show_filter['weekday'], categories=\n",
    "    [0,1,2,3,4,5,6],\n",
    "    ordered=True)\n",
    "\n",
    "show_by_day = show_filter['weekday'].value_counts()\n",
    "\n",
    "\n",
    "show_by_day = show_by_day.sort_index()\n",
    "\n",
    "\n",
    "matplotlib.rcParams.update({'font.size': 22})\n",
    "\n",
    "\n",
    "show_by_day.plot(kind='bar', figsize=(20,10), title='show Watched by Day')\n"
   ]
  },
  {
   "cell_type": "code",
   "execution_count": 124,
   "metadata": {},
   "outputs": [
    {
     "name": "stderr",
     "output_type": "stream",
     "text": [
      "<ipython-input-124-68c83321a687>:1: SettingWithCopyWarning: \n",
      "A value is trying to be set on a copy of a slice from a DataFrame.\n",
      "Try using .loc[row_indexer,col_indexer] = value instead\n",
      "\n",
      "See the caveats in the documentation: https://pandas.pydata.org/pandas-docs/stable/user_guide/indexing.html#returning-a-view-versus-a-copy\n",
      "  show_filter['hour'] = pd.Categorical(show_filter['hour'], categories=\n"
     ]
    },
    {
     "data": {
      "text/plain": [
       "<AxesSubplot:title={'center':'user Watched by hour'}>"
      ]
     },
     "execution_count": 124,
     "metadata": {},
     "output_type": "execute_result"
    },
    {
     "data": {
      "image/png": "[encoded data removed]",
      "text/plain": [
       "<Figure size 1440x720 with 1 Axes>"
      ]
     },
     "metadata": {
      "needs_background": "light"
     },
     "output_type": "display_data"
    }
   ],
   "source": [
    "show_filter['hour'] = pd.Categorical(show_filter['hour'], categories=\n",
    "    [0,1,2,3,4,5,6,7,8,9,10,11,12,13,14,15,16,17,18,19,20,21,22,23],\n",
    "    ordered=True)\n",
    "    \n",
    "\n",
    "show_by_hour = show_filter['hour'].value_counts()\n",
    "\n",
    "\n",
    "show_by_hour = show_by_hour.sort_index()\n",
    "\n",
    "\n",
    "matplotlib.rcParams.update({'font.size': 22})\n",
    "\n",
    "\n",
    "show_by_hour.plot(kind='bar', figsize=(20,10), title='user Watched by hour')"
   ]
  },
  {
   "cell_type": "code",
   "execution_count": 143,
   "metadata": {},
   "outputs": [
    {
     "name": "stdout",
     "output_type": "stream",
     "text": [
      "90 days 02:53:24\n"
     ]
    }
   ],
   "source": [
    "timeset = pd.Timestamp(2010, 1, 1).tz_localize('UTC')\n",
    "time_filter = df[df['Start Time'] > timeset]\n",
    "user_filter = time_filter[time_filter['Profile Name'] == 'Hugh']\n",
    "total = user_filter['Duration'].sum()\n",
    "print(total)"
   ]
  },
  {
   "cell_type": "code",
   "execution_count": 156,
   "metadata": {},
   "outputs": [
    {
     "name": "stdout",
     "output_type": "stream",
     "text": [
      "13 days 16:53:48\n"
     ]
    }
   ],
   "source": [
    "timeset = pd.Timestamp(2023,1,1).tz_localize('UTC')\n",
    "one_year = timedelta(days=365)\n",
    "one_year_later = timeset + one_year\n",
    "time_filter = df[(df['Start Time'] >= timeset) & (df['Start Time'] < one_year_later) ]\n",
    "user_filter = time_filter[time_filter['Profile Name'] == 'Hugh']\n",
    "total = user_filter['Duration'].sum()\n",
    "print(total)"
   ]
  },
  {
   "cell_type": "code",
   "execution_count": 114,
   "metadata": {},
   "outputs": [
    {
     "name": "stdout",
     "output_type": "stream",
     "text": [
      "NaT\n"
     ]
    }
   ],
   "source": []
  },
  {
   "cell_type": "code",
   "execution_count": null,
   "metadata": {},
   "outputs": [],
   "source": []
  },
  {
   "cell_type": "code",
   "execution_count": null,
   "metadata": {},
   "outputs": [],
   "source": []
  }
 ],
 "metadata": {
  "kernelspec": {
   "display_name": "Python 3",
   "language": "python",
   "name": "python3"
  },
  "language_info": {
   "codemirror_mode": {
    "name": "ipython",
    "version": 3
   },
   "file_extension": ".py",
   "mimetype": "text/x-python",
   "name": "python",
   "nbconvert_exporter": "python",
   "pygments_lexer": "ipython3",
   "version": "3.8.5"
  }
 },
 "nbformat": 4,
 "nbformat_minor": 4
}
