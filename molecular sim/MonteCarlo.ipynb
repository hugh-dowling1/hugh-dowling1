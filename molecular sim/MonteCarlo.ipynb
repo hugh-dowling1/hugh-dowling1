{
 "cells": [
  {
   "cell_type": "code",
   "execution_count": null,
   "metadata": {},
   "outputs": [],
   "source": [
    "'''1a) the line below is where the section begins.\n",
    "    initialisation-N = 20000 \n",
    "    Monte Carlo Loop-for i from 1 to N do \n",
    "    Data Calculation-Etot = E1 \n",
    "    Analysis-Eav = (Etot)\n",
    "'''\n",
    "\n",
    "\n",
    "'''1b)\n",
    "   1)kf=1.381*10^(-23) should be diffrent variable name kf already exists\n",
    "   2)kT=k*T, K does not exist \n",
    "   3)Eav = (Etot) should be (Etot/N)\n",
    "   4)need another if statement for if (-deltaE/KT)<= rand()\n",
    "'''"
   ]
  },
  {
   "cell_type": "code",
   "execution_count": 203,
   "metadata": {},
   "outputs": [
    {
     "name": "stdout",
     "output_type": "stream",
     "text": [
      "Average potential energy:  2.0546418283706833e-21\n",
      "Average potential energy squared:  1.2768317955768463e-41\n",
      "heat capacity:  6.876470281501359e-24\n",
      "average x:  0.0002751985252614889\n",
      "average x**2:  0.00041092836567413737\n"
     ]
    }
   ],
   "source": [
    "#question 1C\n",
    "import random\n",
    "import math\n",
    "kf=10\n",
    "nm=10**(-9)\n",
    "K=1.381*10**(-23)\n",
    "T=300\n",
    "def energy_function(x):\n",
    "    \"\"\"A simple energy function that we want to sample from.\"\"\"\n",
    "    return (kf*(nm**2)*(x**2))/2\n",
    "\n",
    "def metropolis(energy_function, x0, N):\n",
    "    \"\"\"Perform the Metropolis Monte Carlo algorithm.\n",
    "    \n",
    "    Arguments:\n",
    "    energy_function -- the function to be sampled from\n",
    "    x0 -- the initial position\n",
    "    num_samples -- the number of samples to generate\n",
    "    \"\"\"\n",
    "    samples = []\n",
    "    x = x0\n",
    "    pot_energy_sum = 0.0\n",
    "    pot_energy_squared_sum = 0.0\n",
    "    Xtot=0.0\n",
    "    Xtot2=0.0\n",
    "    for i in range(N):\n",
    "        x_new = x + random.uniform(-1,1)*0.15\n",
    "        pot_energy_difference = energy_function(x_new) - energy_function(x)\n",
    "        acceptance_probability = min(1, math.exp((-pot_energy_difference)/(K*T)))\n",
    "        if pot_energy_difference <= 0:\n",
    "            x=x_new\n",
    "            samples.append(x)\n",
    "            pot_energy = energy_function(x_new)\n",
    "        acceptance_probability = min(1, math.exp((-pot_energy_difference)/(K*T)))\n",
    "        if pot_energy_difference>0:\n",
    "            if random.uniform(0, 1) < acceptance_probability:\n",
    "                x = x_new\n",
    "                samples.append(x)\n",
    "                pot_energy = energy_function(x_new)\n",
    "            if random.uniform(0, 1) >= acceptance_probability:\n",
    "                x=x\n",
    "                samples.append(x)\n",
    "                pot_energy = energy_function(x)\n",
    "        pot_energy_sum += pot_energy\n",
    "        pot_energy_squared_sum += pot_energy**2\n",
    "        Xtot+=x\n",
    "        Xtot2+=x**2\n",
    "    avg_pot_energy = pot_energy_sum/N\n",
    "    avg_pot_energy_squared = pot_energy_squared_sum / N\n",
    "    #question 2a and 2b\n",
    "    avgX=Xtot/N\n",
    "    avgX2=Xtot2/N\n",
    "    heat_capacity=(avg_pot_energy_squared - avg_pot_energy**2)/(K*T**2)\n",
    "    return samples, avg_pot_energy, avg_pot_energy_squared, heat_capacity, avgX, avgX2\n",
    "\n",
    "samples, avg_pot_energy, avg_pot_energy_squared, heat_capacity, avgX, avgX2 = metropolis(energy_function, 0, 20000)\n",
    "print(\"Average potential energy: \", avg_pot_energy)\n",
    "print(\"Average potential energy squared: \", avg_pot_energy_squared)\n",
    "print(\"heat capacity: \", heat_capacity)\n",
    "print(\"average x: \",avgX)\n",
    "print(\"average x**2: \",avgX2)\n",
    "\n",
    "\n",
    "\n",
    "\n",
    "\n"
   ]
  },
  {
   "cell_type": "code",
   "execution_count": null,
   "metadata": {},
   "outputs": [],
   "source": [
    "#question 2a and 2b\n",
    "#the typical value of x is 0.00025 as it is root(KT/kf)\n",
    "#the typical value of x^2 is 0.00041 which is identical to the KT/kf"
   ]
  },
  {
   "cell_type": "code",
   "execution_count": 141,
   "metadata": {},
   "outputs": [
    {
     "name": "stdout",
     "output_type": "stream",
     "text": [
      "2.1299441954873226e-31\n",
      "5.101678967132715e-11\n",
      "2.0874933617044218e-21\n"
     ]
    }
   ],
   "source": [
    "#question 1d\n",
    "from scipy.integrate import quad\n",
    "import sympy as sp\n",
    "import numpy as np\n",
    "kf=10\n",
    "K=1.381*10**(-23)\n",
    "T=300\n",
    "def int_1(x):\n",
    "    return kf * x**2 * np.exp((-x**2 * kf) / (2 * K * T))\n",
    "\n",
    "def int_2(x):\n",
    "    return (np.exp((-x ** 2 * kf)/(2*K*T)))\n",
    "\n",
    "\n",
    "res, err = quad(int_1, -10**-9, 10**-9)\n",
    "print(res)\n",
    "\n",
    "res2, err2 = quad(int_2, -10**-9, 10**-9)\n",
    "print(res2)\n",
    "\n",
    "potential=1/2*(res/res2)\n",
    "print(potential)"
   ]
  },
  {
   "cell_type": "code",
   "execution_count": null,
   "metadata": {},
   "outputs": [],
   "source": [
    "# question 3\n",
    "'''The metropolis monte carlo simulation works as it uses random numbers between 0-1\n",
    "to sample the system in a way that prefers low energy states. These states are the most \n",
    "important to study. These contribtions are most important as most of the occupied states are\n",
    "at the low energy levels. If the simulation does pick out high energies it is always\n",
    "accepted at a probibility related to (deltaE/KT). The chance of being accepted decreases\n",
    "exponentially with higher energies which is why it is biased towards low energies.\n",
    "This is also important as it eliminates the need for Qn which is thought to be unsolveable'''\n"
   ]
  },
  {
   "cell_type": "code",
   "execution_count": 198,
   "metadata": {},
   "outputs": [
    {
     "name": "stdout",
     "output_type": "stream",
     "text": [
      "0.9234713498624345\n",
      "1.2052727862958288\n",
      "1.4280197560111145\n",
      "1.3486887110492833\n",
      "1.4120539374517296\n"
     ]
    },
    {
     "data": {
      "text/plain": [
       "[<matplotlib.lines.Line2D at 0x17e7b2badc0>]"
      ]
     },
     "execution_count": 198,
     "metadata": {},
     "output_type": "execute_result"
    },
    {
     "data": {
      "image/png": "[encoded data removed]",
      "text/plain": [
       "<Figure size 432x288 with 1 Axes>"
      ]
     },
     "metadata": {
      "needs_background": "light"
     },
     "output_type": "display_data"
    }
   ],
   "source": [
    "#quetion 4\n",
    "import matplotlib.pyplot as plt\n",
    "error_array=[]\n",
    "samples, avg_pot_energy, avg_pot_energy_squared, heat_capacity, avgX, avgX2 = metropolis(energy_function, 0, 10)\n",
    "error1=((np.sqrt(K*T**2*heat_capacity))/(avg_pot_energy))\n",
    "print(error1)\n",
    "error_array.append(error1)\n",
    "samples, avg_pot_energy, avg_pot_energy_squared, heat_capacity, avgX, avgX2 = metropolis(energy_function, 0, 100)\n",
    "error2=((np.sqrt(K*T**2*heat_capacity))/(avg_pot_energy))\n",
    "print(error2)\n",
    "error_array.append(error2)\n",
    "samples, avg_pot_energy, avg_pot_energy_squared, heat_capacity, avgX, avgX2 = metropolis(energy_function, 0, 1000)\n",
    "error3=((np.sqrt(K*T**2*heat_capacity))/(avg_pot_energy))\n",
    "print(error3)\n",
    "error_array.append(error3)\n",
    "samples, avg_pot_energy, avg_pot_energy_squared, heat_capacity, avgX, avgX2 = metropolis(energy_function, 0, 10000)\n",
    "error4=((np.sqrt(K*T**2*heat_capacity))/(avg_pot_energy))\n",
    "print(error4)\n",
    "error_array.append(error4)\n",
    "samples, avg_pot_energy, avg_pot_energy_squared, heat_capacity, avgX, avgX2 = metropolis(energy_function, 0, 50000)\n",
    "error5=((np.sqrt(K*T**2*heat_capacity))/(avg_pot_energy))\n",
    "print(error5)\n",
    "error_array.append(error5)\n",
    "plt_data=np.arange(0,5)\n",
    "plt.plot(plt_data,error_array)\n",
    "\n",
    "\n",
    "\n",
    "\n"
   ]
  },
  {
   "cell_type": "code",
   "execution_count": null,
   "metadata": {},
   "outputs": [],
   "source": [
    "'''question 6\n",
    "i feel i deserve an extra mark due to the solid understanding i now have of the \n",
    "metropolis montecarlo simulation as I have done some extra research.'''"
   ]
  },
  {
   "cell_type": "code",
   "execution_count": null,
   "metadata": {},
   "outputs": [],
   "source": [
    "'''self assessment\n",
    "question 1- i feel like i completed question 1 very well although I am unsure\n",
    "whether I picked out all the errors correctly, my signposts of the code in question \n",
    "1A and the actual simulation I felt i did very well.\n",
    "\n",
    "question 2- I felt that I coded the extra section well and got correct answers \n",
    "however the average positions typical value and the explaination of why stumped me \n",
    "I struggled to find much information related and made a logical assumption based off\n",
    "what I knew.\n",
    "\n",
    "Question 3- I feel my understanding of the simulation is very good as I spent time researching\n",
    "it thoroughly.\n",
    "\n",
    "question 4 - My question 4 was very strange as i did not get the results I expected however \n",
    "I feel I coded the equation right. I feel my code for this was very inefficient and could be made\n",
    "better.\n",
    "\n",
    "'''\n"
   ]
  },
  {
   "cell_type": "code",
   "execution_count": null,
   "metadata": {},
   "outputs": [],
   "source": []
  }
 ],
 "metadata": {
  "kernelspec": {
   "display_name": "Python 3",
   "language": "python",
   "name": "python3"
  },
  "language_info": {
   "codemirror_mode": {
    "name": "ipython",
    "version": 3
   },
   "file_extension": ".py",
   "mimetype": "text/x-python",
   "name": "python",
   "nbconvert_exporter": "python",
   "pygments_lexer": "ipython3",
   "version": "3.8.5"
  }
 },
 "nbformat": 4,
 "nbformat_minor": 4
}
